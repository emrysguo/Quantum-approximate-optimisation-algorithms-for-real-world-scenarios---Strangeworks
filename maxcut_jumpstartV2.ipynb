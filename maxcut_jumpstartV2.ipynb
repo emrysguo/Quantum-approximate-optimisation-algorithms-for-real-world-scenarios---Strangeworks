{
  "cells": [
    {
      "cell_type": "markdown",
      "metadata": {
        "id": "view-in-github",
        "colab_type": "text"
      },
      "source": [
        "<a href=\"https://colab.research.google.com/github/emrysguo/Quantum-approximate-optimisation-algorithms-for-real-world-scenarios---Strangeworks/blob/main/maxcut_jumpstartV2.ipynb\" target=\"_parent\"><img src=\"https://colab.research.google.com/assets/colab-badge.svg\" alt=\"Open In Colab\"/></a>"
      ]
    },
    {
      "cell_type": "markdown",
      "id": "695d4e4a",
      "metadata": {
        "id": "695d4e4a"
      },
      "source": [
        "### Strangeworks Hackathon\n",
        "### Team Jumpstart Quantum"
      ]
    },
    {
      "cell_type": "markdown",
      "id": "d16645f5",
      "metadata": {
        "id": "d16645f5"
      },
      "source": [
        "### Challenge Goal\n",
        "\n",
        "-\n",
        "\n",
        "-\n",
        "\n",
        "-"
      ]
    },
    {
      "cell_type": "markdown",
      "id": "dd6fbeac",
      "metadata": {
        "id": "dd6fbeac"
      },
      "source": [
        "### Python Version"
      ]
    },
    {
      "cell_type": "code",
      "execution_count": 1,
      "id": "eab32ea1",
      "metadata": {
        "colab": {
          "base_uri": "https://localhost:8080/"
        },
        "id": "eab32ea1",
        "outputId": "5fe22843-0902-45b0-c426-b1b61e7065ec"
      },
      "outputs": [
        {
          "output_type": "stream",
          "name": "stdout",
          "text": [
            "The current version of python is 3.7.13\n",
            "Please Update Python\n"
          ]
        }
      ],
      "source": [
        "from platform import python_version\n",
        "\n",
        "print(\"The current version of python is \"+python_version())\n",
        "if python_version() != '3.9.11':\n",
        "    print(\"Please Update Python\")"
      ]
    },
    {
      "cell_type": "markdown",
      "id": "1107a1d3",
      "metadata": {
        "id": "1107a1d3"
      },
      "source": [
        "### Install Libraries\n",
        "\n",
        "After running the cell below, you may need to resart the Jupyter notebook for them to take effect. "
      ]
    },
    {
      "cell_type": "code",
      "execution_count": 2,
      "id": "5ba96588",
      "metadata": {
        "colab": {
          "base_uri": "https://localhost:8080/"
        },
        "id": "5ba96588",
        "outputId": "da706db6-e1ca-4d94-f399-621fd3b0805b"
      },
      "outputs": [
        {
          "output_type": "stream",
          "name": "stdout",
          "text": [
            "Looking in indexes: https://pypi.org/simple, https://us-python.pkg.dev/colab-wheels/public/simple/\n",
            "Requirement already satisfied: networkx in /usr/local/lib/python3.7/dist-packages (2.6.3)\n",
            "Looking in indexes: https://pypi.org/simple, https://us-python.pkg.dev/colab-wheels/public/simple/\n",
            "Requirement already satisfied: matplotlib in /usr/local/lib/python3.7/dist-packages (3.2.2)\n",
            "Requirement already satisfied: pyparsing!=2.0.4,!=2.1.2,!=2.1.6,>=2.0.1 in /usr/local/lib/python3.7/dist-packages (from matplotlib) (3.0.9)\n",
            "Requirement already satisfied: kiwisolver>=1.0.1 in /usr/local/lib/python3.7/dist-packages (from matplotlib) (1.4.4)\n",
            "Requirement already satisfied: cycler>=0.10 in /usr/local/lib/python3.7/dist-packages (from matplotlib) (0.11.0)\n",
            "Requirement already satisfied: python-dateutil>=2.1 in /usr/local/lib/python3.7/dist-packages (from matplotlib) (2.8.2)\n",
            "Requirement already satisfied: numpy>=1.11 in /usr/local/lib/python3.7/dist-packages (from matplotlib) (1.21.6)\n",
            "Requirement already satisfied: typing-extensions in /usr/local/lib/python3.7/dist-packages (from kiwisolver>=1.0.1->matplotlib) (4.1.1)\n",
            "Requirement already satisfied: six>=1.5 in /usr/local/lib/python3.7/dist-packages (from python-dateutil>=2.1->matplotlib) (1.15.0)\n",
            "Looking in indexes: https://pypi.org/simple, https://us-python.pkg.dev/colab-wheels/public/simple/\n",
            "Collecting pylatexenc\n",
            "  Downloading pylatexenc-2.10.tar.gz (162 kB)\n",
            "\u001b[K     |████████████████████████████████| 162 kB 4.6 MB/s \n",
            "\u001b[?25hBuilding wheels for collected packages: pylatexenc\n",
            "  Building wheel for pylatexenc (setup.py) ... \u001b[?25l\u001b[?25hdone\n",
            "  Created wheel for pylatexenc: filename=pylatexenc-2.10-py3-none-any.whl size=136835 sha256=b0bd0e67ebdf3fa7a3f3ae9556a874f6047bf8b36b2503c77e4577b1747414b6\n",
            "  Stored in directory: /root/.cache/pip/wheels/f1/8a/f5/33ee79d4473eb201b519fa40f989b842e373237395a3421f52\n",
            "Successfully built pylatexenc\n",
            "Installing collected packages: pylatexenc\n",
            "Successfully installed pylatexenc-2.10\n",
            "Looking in indexes: https://pypi.org/simple, https://us-python.pkg.dev/colab-wheels/public/simple/\n",
            "Collecting qiskit\n",
            "  Downloading qiskit-0.37.1.tar.gz (13 kB)\n",
            "Collecting qiskit-terra==0.21.1\n",
            "  Downloading qiskit_terra-0.21.1-cp37-cp37m-manylinux_2_17_x86_64.manylinux2014_x86_64.whl (6.7 MB)\n",
            "\u001b[K     |████████████████████████████████| 6.7 MB 5.0 MB/s \n",
            "\u001b[?25hCollecting qiskit-aer==0.10.4\n",
            "  Downloading qiskit_aer-0.10.4-cp37-cp37m-manylinux_2_12_x86_64.manylinux2010_x86_64.whl (18.0 MB)\n",
            "\u001b[K     |████████████████████████████████| 18.0 MB 18.6 MB/s \n",
            "\u001b[?25hCollecting qiskit-ibmq-provider==0.19.2\n",
            "  Downloading qiskit_ibmq_provider-0.19.2-py3-none-any.whl (240 kB)\n",
            "\u001b[K     |████████████████████████████████| 240 kB 57.3 MB/s \n",
            "\u001b[?25hRequirement already satisfied: scipy>=1.0 in /usr/local/lib/python3.7/dist-packages (from qiskit-aer==0.10.4->qiskit) (1.7.3)\n",
            "Requirement already satisfied: numpy>=1.16.3 in /usr/local/lib/python3.7/dist-packages (from qiskit-aer==0.10.4->qiskit) (1.21.6)\n",
            "Requirement already satisfied: python-dateutil>=2.8.0 in /usr/local/lib/python3.7/dist-packages (from qiskit-ibmq-provider==0.19.2->qiskit) (2.8.2)\n",
            "Collecting websocket-client>=1.0.1\n",
            "  Downloading websocket_client-1.3.3-py3-none-any.whl (54 kB)\n",
            "\u001b[K     |████████████████████████████████| 54 kB 2.9 MB/s \n",
            "\u001b[?25hCollecting requests-ntlm>=1.1.0\n",
            "  Downloading requests_ntlm-1.1.0-py2.py3-none-any.whl (5.7 kB)\n",
            "Requirement already satisfied: requests>=2.19 in /usr/local/lib/python3.7/dist-packages (from qiskit-ibmq-provider==0.19.2->qiskit) (2.23.0)\n",
            "Collecting websockets>=10.0\n",
            "  Downloading websockets-10.3-cp37-cp37m-manylinux_2_5_x86_64.manylinux1_x86_64.manylinux_2_12_x86_64.manylinux2010_x86_64.whl (112 kB)\n",
            "\u001b[K     |████████████████████████████████| 112 kB 58.3 MB/s \n",
            "\u001b[?25hRequirement already satisfied: urllib3>=1.21.1 in /usr/local/lib/python3.7/dist-packages (from qiskit-ibmq-provider==0.19.2->qiskit) (1.24.3)\n",
            "Collecting retworkx>=0.11.0\n",
            "  Downloading retworkx-0.11.0-cp37-cp37m-manylinux_2_5_x86_64.manylinux1_x86_64.manylinux_2_12_x86_64.manylinux2010_x86_64.whl (1.6 MB)\n",
            "\u001b[K     |████████████████████████████████| 1.6 MB 51.5 MB/s \n",
            "\u001b[?25hCollecting shared-memory38\n",
            "  Downloading shared_memory38-0.1.2-cp37-cp37m-manylinux_2_5_x86_64.manylinux1_x86_64.whl (25 kB)\n",
            "Requirement already satisfied: dill>=0.3 in /usr/local/lib/python3.7/dist-packages (from qiskit-terra==0.21.1->qiskit) (0.3.5.1)\n",
            "Collecting tweedledum<2.0,>=1.1\n",
            "  Downloading tweedledum-1.1.1-cp37-cp37m-manylinux_2_12_x86_64.manylinux2010_x86_64.whl (943 kB)\n",
            "\u001b[K     |████████████████████████████████| 943 kB 46.5 MB/s \n",
            "\u001b[?25hRequirement already satisfied: sympy>=1.3 in /usr/local/lib/python3.7/dist-packages (from qiskit-terra==0.21.1->qiskit) (1.7.1)\n",
            "Collecting stevedore>=3.0.0\n",
            "  Downloading stevedore-3.5.0-py3-none-any.whl (49 kB)\n",
            "\u001b[K     |████████████████████████████████| 49 kB 5.0 MB/s \n",
            "\u001b[?25hCollecting symengine>=0.9\n",
            "  Downloading symengine-0.9.2-cp37-cp37m-manylinux2010_x86_64.whl (37.5 MB)\n",
            "\u001b[K     |████████████████████████████████| 37.5 MB 45 kB/s \n",
            "\u001b[?25hRequirement already satisfied: typing-extensions in /usr/local/lib/python3.7/dist-packages (from qiskit-terra==0.21.1->qiskit) (4.1.1)\n",
            "Requirement already satisfied: psutil>=5 in /usr/local/lib/python3.7/dist-packages (from qiskit-terra==0.21.1->qiskit) (5.4.8)\n",
            "Collecting ply>=3.10\n",
            "  Downloading ply-3.11-py2.py3-none-any.whl (49 kB)\n",
            "\u001b[K     |████████████████████████████████| 49 kB 7.0 MB/s \n",
            "\u001b[?25hRequirement already satisfied: six>=1.5 in /usr/local/lib/python3.7/dist-packages (from python-dateutil>=2.8.0->qiskit-ibmq-provider==0.19.2->qiskit) (1.15.0)\n",
            "Requirement already satisfied: chardet<4,>=3.0.2 in /usr/local/lib/python3.7/dist-packages (from requests>=2.19->qiskit-ibmq-provider==0.19.2->qiskit) (3.0.4)\n",
            "Requirement already satisfied: certifi>=2017.4.17 in /usr/local/lib/python3.7/dist-packages (from requests>=2.19->qiskit-ibmq-provider==0.19.2->qiskit) (2022.6.15)\n",
            "Requirement already satisfied: idna<3,>=2.5 in /usr/local/lib/python3.7/dist-packages (from requests>=2.19->qiskit-ibmq-provider==0.19.2->qiskit) (2.10)\n",
            "Collecting ntlm-auth>=1.0.2\n",
            "  Downloading ntlm_auth-1.5.0-py2.py3-none-any.whl (29 kB)\n",
            "Collecting cryptography>=1.3\n",
            "  Downloading cryptography-37.0.4-cp36-abi3-manylinux_2_24_x86_64.whl (4.1 MB)\n",
            "\u001b[K     |████████████████████████████████| 4.1 MB 37.9 MB/s \n",
            "\u001b[?25hRequirement already satisfied: cffi>=1.12 in /usr/local/lib/python3.7/dist-packages (from cryptography>=1.3->requests-ntlm>=1.1.0->qiskit-ibmq-provider==0.19.2->qiskit) (1.15.1)\n",
            "Requirement already satisfied: pycparser in /usr/local/lib/python3.7/dist-packages (from cffi>=1.12->cryptography>=1.3->requests-ntlm>=1.1.0->qiskit-ibmq-provider==0.19.2->qiskit) (2.21)\n",
            "Requirement already satisfied: importlib-metadata>=1.7.0 in /usr/local/lib/python3.7/dist-packages (from stevedore>=3.0.0->qiskit-terra==0.21.1->qiskit) (4.12.0)\n",
            "Collecting pbr!=2.1.0,>=2.0.0\n",
            "  Downloading pbr-5.10.0-py2.py3-none-any.whl (112 kB)\n",
            "\u001b[K     |████████████████████████████████| 112 kB 60.9 MB/s \n",
            "\u001b[?25hRequirement already satisfied: zipp>=0.5 in /usr/local/lib/python3.7/dist-packages (from importlib-metadata>=1.7.0->stevedore>=3.0.0->qiskit-terra==0.21.1->qiskit) (3.8.1)\n",
            "Requirement already satisfied: mpmath>=0.19 in /usr/local/lib/python3.7/dist-packages (from sympy>=1.3->qiskit-terra==0.21.1->qiskit) (1.2.1)\n",
            "Building wheels for collected packages: qiskit\n",
            "  Building wheel for qiskit (setup.py) ... \u001b[?25l\u001b[?25hdone\n",
            "  Created wheel for qiskit: filename=qiskit-0.37.1-py3-none-any.whl size=12067 sha256=8556f361e383363ad39895de8ccd790ebc0fb9c2ac6f1439892836724dbd2643\n",
            "  Stored in directory: /root/.cache/pip/wheels/1c/3c/a3/bf8c2931e17937329c34a88b76cb88cbb7f9f2692fa7cfbcd1\n",
            "Successfully built qiskit\n",
            "Installing collected packages: pbr, tweedledum, symengine, stevedore, shared-memory38, retworkx, ply, ntlm-auth, cryptography, websockets, websocket-client, requests-ntlm, qiskit-terra, qiskit-ibmq-provider, qiskit-aer, qiskit\n",
            "Successfully installed cryptography-37.0.4 ntlm-auth-1.5.0 pbr-5.10.0 ply-3.11 qiskit-0.37.1 qiskit-aer-0.10.4 qiskit-ibmq-provider-0.19.2 qiskit-terra-0.21.1 requests-ntlm-1.1.0 retworkx-0.11.0 shared-memory38-0.1.2 stevedore-3.5.0 symengine-0.9.2 tweedledum-1.1.1 websocket-client-1.3.3 websockets-10.3\n"
          ]
        }
      ],
      "source": [
        "!pip install networkx\n",
        "!pip install matplotlib\n",
        "!pip install pylatexenc\n",
        "!pip install qiskit"
      ]
    },
    {
      "cell_type": "markdown",
      "id": "5bde9b57",
      "metadata": {
        "id": "5bde9b57"
      },
      "source": [
        "### Quantum Approximate Optimisation Algorithm (QAOA)\n",
        "\n",
        "This short tutorial is borrowed heavily from the qiskit webpage - https://qiskit.org/textbook/ch-applications/qaoa.html. \n",
        "\n",
        "This implementation, while currently running on your local computer, is written in such a way that we only have to change the \"backend\" and it will run on IBMs superconducting quantum hardware."
      ]
    },
    {
      "cell_type": "code",
      "execution_count": 3,
      "id": "80604175",
      "metadata": {
        "id": "80604175"
      },
      "outputs": [],
      "source": [
        "import networkx as nx\n",
        "import matplotlib.pyplot as plt"
      ]
    },
    {
      "cell_type": "markdown",
      "id": "36189c64",
      "metadata": {
        "id": "36189c64"
      },
      "source": [
        "### Max-Cut problem \n",
        "\n",
        "A Max-Cut problem involves partitioning nodes of a graph into two sets, such that the number of edges between the sets is maximum. The example below has a graph with four nodes and some of the ways in which it can be partitioned into two sets, \"red\" and \"blue\" is shown."
      ]
    },
    {
      "cell_type": "code",
      "execution_count": 4,
      "id": "6c2386d6",
      "metadata": {
        "colab": {
          "base_uri": "https://localhost:8080/",
          "height": 303
        },
        "id": "6c2386d6",
        "outputId": "db84a1f9-9229-4f75-f505-ca2ea6e09c9b"
      },
      "outputs": [
        {
          "output_type": "display_data",
          "data": {
            "text/plain": [
              "<Figure size 864x360 with 4 Axes>"
            ],
            "image/png": "[encoded data removed]"
          },
          "metadata": {}
        }
      ],
      "source": [
        "G = nx.Graph()\n",
        "G.add_nodes_from([0, 1, 2, 3])\n",
        "G.add_edges_from([(0, 1), (1, 2), (2, 3), (3, 0)])\n",
        "\n",
        "fig, axes = plt.subplots(nrows=1, ncols=4,figsize=(12,5))\n",
        "plt.subplot(1, 4, 1)\n",
        "color_map = ['red','red','red','red']\n",
        "nx.draw(G, node_color=color_map, with_labels=True, alpha=0.8, node_size=500)\n",
        "\n",
        "plt.subplot(1, 4, 2)\n",
        "color_map = ['red','blue','red','red']\n",
        "nx.draw(G, node_color=color_map, with_labels=True, alpha=0.8, node_size=500)\n",
        "\n",
        "plt.subplot(1, 4, 3)\n",
        "color_map = ['blue','blue','red','red']\n",
        "nx.draw(G, node_color=color_map, with_labels=True, alpha=0.8, node_size=500)\n",
        "\n",
        "plt.subplot(1, 4, 4)\n",
        "color_map = ['blue','red','blue','red']\n",
        "nx.draw(G, node_color=color_map, with_labels=True, alpha=0.8, node_size=500)"
      ]
    },
    {
      "cell_type": "markdown",
      "id": "1cd3bc08",
      "metadata": {
        "id": "1cd3bc08"
      },
      "source": [
        "For 4 nodes, as each node can be assigned to either the \"red\" or \"blue\" sets, there are $2^4=16$ possible assigments, out of which we have to find one that gives maximum number of edges between the sets \"red\" and \"blue\". The number of such edges between two sets in the figure, as we go from left to right, are 0, 2, 2, and 4. We can see, after enumerating all possible $2^4=16$ assignments, that the rightmost figure is the assignment that gives the maximum number of edges between the two sets. Hence if we encode \"red\" as 0 and \"blue\" as 1, the bitstrings \"0101\" and \"1010\" that represent the assignment of nodes to either set are the solutions.   "
      ]
    },
    {
      "cell_type": "markdown",
      "id": "9c830a4f",
      "metadata": {
        "id": "9c830a4f"
      },
      "source": [
        "As you may have realized, as the number of nodes in the graph increases, the number of possible assignments \n",
        "that you have to examine to find the solution increases exponentially. If N is the number of nodes, the number of solutions grows as: $2^N$."
      ]
    },
    {
      "cell_type": "markdown",
      "id": "ddc24985",
      "metadata": {
        "id": "ddc24985"
      },
      "source": [
        "## QAOA\n",
        "\n",
        "QAOA (Quantum Approximate Optimization Algorithm) introduced by Farhi et al.[1] is a quantum algorithm that attempts to \n",
        "solve such combinatorial problems.<br> \n",
        "\n",
        "It is a variational algorithm that uses a unitary $U(\\boldsymbol{\\beta}, \\boldsymbol{\\gamma})$ characterized by the parameters \n",
        "$(\\boldsymbol{\\beta}, \\boldsymbol{\\gamma})$ to prepare a quantum state $\\lvert \\psi(\\boldsymbol{\\beta}, \\boldsymbol{\\gamma}) \\rangle$. \n",
        "The goal of the algorithm\n",
        "is to find optimal parameters $(\\boldsymbol{\\beta}_{opt}, \\boldsymbol{\\gamma}_{opt})$ such that the \n",
        "quantum state $\\lvert \\psi(\\boldsymbol{\\beta}_{opt}, \\boldsymbol{\\gamma}_{opt}) \\rangle$ encodes the solution to the problem. \n",
        "\n",
        "The unitary $U(\\boldsymbol{\\beta}, \\boldsymbol{\\gamma})$ has a specific form and is composed of two unitaries \n",
        "$U(\\boldsymbol{\\beta}) = e^{-i \\boldsymbol{\\beta} H_B}$ and $U(\\boldsymbol{\\gamma}) = e^{-i \\boldsymbol{\\gamma} H_P}$\n",
        "where $H_B$ is the mixing Hamiltonian and $H_P$ is the problem Hamiltonian (defined below). Such a choice of unitary drives its inspiration \n",
        "from a related scheme called quantum annealing.\n",
        "\n",
        "The state is prepared by applying these unitaries as alternating blocks of the two unitaries applied $p$ times such that \n",
        "\n",
        "$$\\lvert \\psi(\\boldsymbol{\\beta}, \\boldsymbol{\\gamma}) \\rangle = \\underbrace{U(\\boldsymbol{\\beta}) U(\\boldsymbol{\\gamma}) \n",
        "                                            \\cdots U(\\boldsymbol{\\beta}) U(\\boldsymbol{\\gamma})}_{p \\; \\text{times}} \n",
        "\\lvert \\psi_0 \\rangle$$\n",
        "\n",
        "where $\\lvert \\psi_0 \\rangle$ is a suitable initial state. \n",
        "\n",
        "We will demonstrate these steps using the Max-Cut problem discussed above. For that we would first define\n",
        "the underlying graph of the problem."
      ]
    },
    {
      "cell_type": "markdown",
      "id": "f3d86f23",
      "metadata": {
        "id": "f3d86f23"
      },
      "source": [
        "### First things First, Define the Graph"
      ]
    },
    {
      "cell_type": "code",
      "execution_count": 5,
      "id": "7b5a3b0f",
      "metadata": {
        "colab": {
          "base_uri": "https://localhost:8080/",
          "height": 391
        },
        "id": "7b5a3b0f",
        "outputId": "28a160b9-d5b6-496a-b06f-39d83a367b4f"
      },
      "outputs": [
        {
          "output_type": "display_data",
          "data": {
            "text/plain": [
              "<Figure size 576x360 with 1 Axes>"
            ],
            "image/png": "[encoded data removed]"
          },
          "metadata": {}
        }
      ],
      "source": [
        "import networkx as nx\n",
        "import matplotlib.pyplot as plt\n",
        "import random\n",
        "from itertools import combinations, groupby\n",
        "\n",
        "# Number of nodes in the graph. Directly corresponds to the number of qubits\n",
        "# Be careful and don't make this number too big, your computer may crash. \n",
        "# The classical computational cost of simulating this (on classical hardware),\n",
        "# scales as 2^nodes. There is a reason that we need quantum computers!\n",
        "nodes = 4\n",
        "\n",
        "# Energy cost for having node occupied. It is negative so it is favourable for having this occupied.\n",
        "weights_nodes = [-2,-2,-2,-2,-2,-2]\n",
        "\n",
        "# Cost for having two connected nodes occupied. This may counteract the positive benefit (weights_nodes)\n",
        "# for having the nodes occupied, and leads to the complexity for the problem.\n",
        "weights_edges = [1,2,2,1]\n",
        "\n",
        "random.seed(1)\n",
        "\n",
        "G = nx.Graph()\n",
        "for nn in range(0,nodes):\n",
        "    G.add_nodes_from([(nn,{'weight': weights_nodes[nn]})])\n",
        "    \n",
        "\n",
        "edges = combinations(range(nodes), 2)\n",
        "iter=0\n",
        "for _, node_edges in groupby(edges, key=lambda x: x[0]):\n",
        "    node_edges = list(node_edges)\n",
        "    random_edge = random.choice(node_edges)\n",
        "    G.add_edges_from([(random_edge[0], random_edge[1],{'weight': weights_edges[iter]})])\n",
        "    iter += 1\n",
        "\n",
        "    for e in node_edges:\n",
        "        if random.random() < 0.4:\n",
        "            G.add_edges_from([(e[0], e[1],{'weight': weights_edges[iter]})])\n",
        "            iter += 1\n",
        "\n",
        "\n",
        "plt.figure(figsize=(8,5))\n",
        "nx.draw(G, node_color='lightblue', \n",
        "        with_labels=True, \n",
        "        node_size=500)\n"
      ]
    },
    {
      "cell_type": "markdown",
      "id": "7d08b520",
      "metadata": {
        "id": "7d08b520"
      },
      "source": [
        "The problem Hamiltonian specific to the Max-Cut problem up to a constant here is:\n",
        "\n",
        "$$\n",
        "H_P = \\frac{1}{2}\\big(Z_0 \\otimes Z_1 \\otimes I_2 \\otimes I_3\\big) + \n",
        "        \\frac{2}{2}\\big(I_0 \\otimes Z_1 \\otimes Z_2 \\otimes I_3\\big) +\n",
        "        \\frac{1}{2}\\big(Z_0 \\otimes I_1 \\otimes I_2 \\otimes Z_3\\big) +\n",
        "        \\frac{2}{2}\\big(I_0 \\otimes I_1 \\otimes Z_2 \\otimes Z_3\\big) \\\\\n",
        "            \\\\\n",
        "            \\\\\n",
        "        -\\big(Z_0 \\otimes I_1 \\otimes I_2 \\otimes I_3\\big)  \n",
        "        -\\big(I_0 \\otimes Z_1 \\otimes I_2 \\otimes I_3\\big) \n",
        "        -\\big(I_0 \\otimes I_1 \\otimes Z_2 \\otimes I_3\\big)\n",
        "        -\\big(I_0 \\otimes I_1 \\otimes I_2 \\otimes Z_3\\big)\n",
        "$$\n",
        "\n",
        "To contruct such a Hamiltonian for a problem, one needs to follow a few steps that we'll cover in later sections of this page."
      ]
    },
    {
      "cell_type": "markdown",
      "id": "7bd5cefe",
      "metadata": {
        "id": "7bd5cefe"
      },
      "source": [
        "### Exact Solution\n",
        "\n",
        "In this section we find the exact ground state of the above Hamiltonian by finding the eigenstates with the lowest energy. This only works for a small number of qubits, due to the exponential scaling of the computational complexity, but it is useful for benchmarking the QAOA algorithm that we will describe below. "
      ]
    },
    {
      "cell_type": "code",
      "execution_count": 6,
      "id": "4adff0c0",
      "metadata": {
        "colab": {
          "base_uri": "https://localhost:8080/"
        },
        "id": "4adff0c0",
        "outputId": "4a899991-132a-48af-b124-2a42f15185c5"
      },
      "outputs": [
        {
          "output_type": "stream",
          "name": "stdout",
          "text": [
            "The cost of the optimal solution is -4.0\n"
          ]
        }
      ],
      "source": [
        "import numpy as np\n",
        "import scipy.sparse.linalg as sla\n",
        "import copy\n",
        "\n",
        "edges = np.zeros((len(G.edges()),2),dtype=int)\n",
        "we = np.zeros(len(G.edges()),dtype=float)\n",
        "iter = 0\n",
        "for x in G.edges():\n",
        "    edges[iter,0] = x[0]\n",
        "    edges[iter,1] = x[1]\n",
        "    we[iter] = G.edges[x][\"weight\"]\n",
        "    iter = iter + 1\n",
        "\n",
        "wn = np.zeros(len(G.nodes()),dtype=float)\n",
        "iter = 0\n",
        "for i in G.nodes():\n",
        "    wn[iter] = G.nodes[i][\"weight\"]\n",
        "    iter = iter + 1\n",
        "\n",
        "def TensorProd(A):\n",
        "\n",
        "    out = np.kron(A[0],A[1])\n",
        "    for oo in range(2,len(A)):\n",
        "        out = np.kron(out,A[oo])\n",
        "\n",
        "    return out\n",
        "\n",
        "sz = [[1.0,0.0],[0.0,0.0]]\n",
        "\n",
        "A0 = []\n",
        "for n in range(0,nodes):\n",
        "    A0.append(np.eye(2))\n",
        "\n",
        "out = TensorProd(A0)\n",
        "\n",
        "Ham = np.zeros((np.power(2,nodes),np.power(2,nodes)),dtype=float)\n",
        "for p in range(0,nodes):\n",
        "    A = copy.deepcopy(A0)\n",
        "    A[p] = sz\n",
        "    Ham += wn[p] * TensorProd(A)\n",
        "\n",
        "for p in range(0,len(G.edges())):\n",
        "    A = copy.deepcopy(A0)\n",
        "    A[edges[p][0]] = sz\n",
        "    A[edges[p][1]] = sz\n",
        "    Ham += we[p] * TensorProd(A)\n",
        "\n",
        "Egs_exact, V = sla.eigs(Ham, 1, which='SR')\n",
        "\n",
        "print(\"The cost of the optimal solution is \"+str(np.real(Egs_exact[0])))"
      ]
    },
    {
      "cell_type": "markdown",
      "id": "8228df32",
      "metadata": {
        "id": "8228df32"
      },
      "source": [
        "How do you interpret the eigenstate vector V? Does it give you the solution in terms of which nodes are occupied?"
      ]
    },
    {
      "cell_type": "markdown",
      "id": "aae7e9b3",
      "metadata": {
        "id": "aae7e9b3"
      },
      "source": [
        "### Mixer Hamiltonian and Unitaries\n",
        "\n",
        "The mixer Hamiltonian $H_B$ is usually of the form:\n",
        "\n",
        "$$\n",
        "H_B = \\big(X_0 \\otimes I_1 \\otimes I_2 \\otimes I_3 \\big) + \n",
        "      \\big(I_0 \\otimes X_1 \\otimes I_2 \\otimes I_3 \\big) +\n",
        "      \\big(I_0 \\otimes I_1 \\otimes X_2 \\otimes I_3 \\big) +\n",
        "      \\big(I_0 \\otimes I_1 \\otimes I_2 \\otimes X_3 \\big)\n",
        "$$\n",
        "\n",
        "As individual terms in the summation of $H_P$ and $H_B$ both commute, we can write the unitaries as:\n",
        "\n",
        "$$ U(H_B) = e^{-i \\beta H_B} = e^{-i \\beta X_0}e^{-i \\beta X_1}e^{-i \\beta X_2}e^{-i \\beta X_3}.$$\n",
        "\n",
        "Notice that each term in the product above corresponds to an X-rotation on each qubit. And we can write $U(H_P)$ as:\n",
        "\n",
        "$$ U(H_P) = e^{-i \\gamma H_P} = e^{-i \\gamma Z_0 Z_1}e^{-i \\gamma Z_1 Z_2}e^{-i \\gamma Z_2 Z_3}e^{-i \\gamma Z_0 Z_3}$$\n",
        "\n",
        "Let's now examine what the circuits of the two unitaries look like. "
      ]
    },
    {
      "cell_type": "markdown",
      "id": "0450ec3c",
      "metadata": {
        "id": "0450ec3c"
      },
      "source": [
        "### The Mixing Unitary"
      ]
    },
    {
      "cell_type": "code",
      "execution_count": 7,
      "id": "ab0ad136",
      "metadata": {
        "colab": {
          "base_uri": "https://localhost:8080/",
          "height": 231
        },
        "id": "ab0ad136",
        "outputId": "a9cfd42f-dcf9-4073-af85-8ad8cc6d93d4"
      },
      "outputs": [
        {
          "output_type": "execute_result",
          "data": {
            "text/plain": [
              "<Figure size 146.797x264.88 with 1 Axes>"
            ],
            "image/png": "[encoded data removed]"
          },
          "metadata": {},
          "execution_count": 7
        }
      ],
      "source": [
        "from qiskit import QuantumCircuit\n",
        "from qiskit.tools.visualization import circuit_drawer\n",
        "from qiskit.circuit import Parameter\n",
        "\n",
        "nqubits = 4\n",
        "\n",
        "beta = Parameter(\"$\\\\beta$\")\n",
        "qc_mix = QuantumCircuit(nqubits)\n",
        "for i in range(0, nqubits):\n",
        "    qc_mix.rx(2 * beta, i)\n",
        "    \n",
        "qc_mix.draw(\"mpl\")"
      ]
    },
    {
      "cell_type": "markdown",
      "id": "b507c2b9",
      "metadata": {
        "id": "b507c2b9"
      },
      "source": [
        "### The Problem Unitary"
      ]
    },
    {
      "cell_type": "code",
      "execution_count": 8,
      "id": "523837f4",
      "metadata": {
        "colab": {
          "base_uri": "https://localhost:8080/",
          "height": 231
        },
        "id": "523837f4",
        "outputId": "0d3b5085-03a4-4678-985c-77cff826415c"
      },
      "outputs": [
        {
          "output_type": "execute_result",
          "data": {
            "text/plain": [
              "<Figure size 1049.8x264.88 with 1 Axes>"
            ],
            "image/png": "[encoded data removed]"
          },
          "metadata": {},
          "execution_count": 8
        }
      ],
      "source": [
        "gamma = Parameter(\"$\\\\gamma$\")\n",
        "qc_p = QuantumCircuit(nqubits)\n",
        "for pair in list(G.edges()):  # pairs of nodes\n",
        "    qc_p.rzz(2 * gamma, pair[0], pair[1])\n",
        "    qc_p.barrier()\n",
        "    \n",
        "qc_p.decompose().draw(\"mpl\")"
      ]
    },
    {
      "cell_type": "markdown",
      "id": "0a3adb97",
      "metadata": {
        "id": "0a3adb97"
      },
      "source": [
        "### The Initial State\n",
        "\n",
        "The initial state used during QAOA is usually an equal superposition of all the basis states i.e.\n",
        "\n",
        "$$\\lvert \\psi_0 \\rangle = \\bigg(\\frac{1}{\\sqrt{2}}\\big(\\lvert 0 \\rangle + \\lvert 1 \\rangle\\big)\\bigg)^{\\otimes n}$$\n",
        "\n",
        "Such a state, when number of qubits is 4 ($n=4$), can be prepared by applying Hadamard gates starting from an all zero state as shown in \n",
        "the circuit below. "
      ]
    },
    {
      "cell_type": "code",
      "execution_count": 9,
      "id": "df7a2a03",
      "metadata": {
        "colab": {
          "base_uri": "https://localhost:8080/",
          "height": 231
        },
        "id": "df7a2a03",
        "outputId": "6b104d69-3ea3-43ef-f510-f42a19db7e10"
      },
      "outputs": [
        {
          "output_type": "execute_result",
          "data": {
            "text/plain": [
              "<Figure size 146.797x264.88 with 1 Axes>"
            ],
            "image/png": "[encoded data removed]"
          },
          "metadata": {},
          "execution_count": 9
        }
      ],
      "source": [
        "qc_0 = QuantumCircuit(nqubits)\n",
        "for i in range(0, nqubits):\n",
        "    qc_0.h(i)\n",
        "    \n",
        "qc_0.draw(\"mpl\")"
      ]
    },
    {
      "cell_type": "markdown",
      "id": "82d758ae",
      "metadata": {
        "id": "82d758ae"
      },
      "source": [
        "### The QAOA circuit\n",
        "\n",
        "So far we have seen that the preparation of a quantum state during QAOA is composed of three elements\n",
        "- Preparing an initial state\n",
        "- Applying the unitary $U(H_P) = e^{-i \\gamma H_P}$ corresponding to the problem Hamiltonian\n",
        "- Then, applying the mixing unitary $U(H_B) = e^{-i \\beta H_B}$\n",
        "\n",
        "Let's see what it looks like for the example problem:"
      ]
    },
    {
      "cell_type": "code",
      "execution_count": 10,
      "id": "2be4b11c",
      "metadata": {
        "colab": {
          "base_uri": "https://localhost:8080/",
          "height": 231
        },
        "id": "2be4b11c",
        "outputId": "1cd65fb2-2078-4135-f577-a1c3df55d664"
      },
      "outputs": [
        {
          "output_type": "execute_result",
          "data": {
            "text/plain": [
              "<Figure size 1170.2x264.88 with 1 Axes>"
            ],
            "image/png": "[encoded data removed]"
          },
          "metadata": {},
          "execution_count": 10
        }
      ],
      "source": [
        "qc_qaoa = QuantumCircuit(nqubits)\n",
        "\n",
        "qc_qaoa.append(qc_0, [i for i in range(0, nqubits)])\n",
        "qc_qaoa.append(qc_p, [i for i in range(0, nqubits)])\n",
        "qc_qaoa.append(qc_mix, [i for i in range(0, nqubits)])\n",
        "\n",
        "qc_qaoa.decompose().decompose().draw(\"mpl\")"
      ]
    },
    {
      "cell_type": "markdown",
      "id": "314f75e0",
      "metadata": {
        "id": "314f75e0"
      },
      "source": [
        "The next step is to find the optimal parameters $(\\boldsymbol{\\beta_{opt}}, \\boldsymbol{\\gamma_{opt}})$ such that the expectation value\n",
        "\n",
        "$$ \\langle \\psi(\\boldsymbol{\\beta}_{opt}, \\boldsymbol{\\gamma}_{opt}) \\rvert H_P \\lvert \n",
        "\\psi(\\boldsymbol{\\beta}_{opt}, \\boldsymbol{\\gamma}_{opt}) \\rangle $$\n",
        "\n",
        "is minimized. Such an expectation can be obtained by doing measurement in the Z-basis. We use a classical optimization algorithm to find the optimal parameters. Following steps are involved as shown in the schematic \n",
        "\n",
        "<img src=\"images/QAOA_schematic.png\" width=\"600\" height=\"200\" class=\"center\">\n",
        "\n",
        "1. Initialize $\\boldsymbol{\\beta}$ and $\\boldsymbol{\\gamma}$ to suitable real values.\n",
        "2. Repeat until some suitable convergence criteria is met:\n",
        "    1. Prepare the state $\\lvert \\psi(\\boldsymbol{\\beta}, \\boldsymbol{\\gamma}) \\rangle$ using qaoa circuit\n",
        "    2. Measure the state in standard basis\n",
        "    3. Compute $ \\langle \\psi(\\boldsymbol{\\beta}, \\boldsymbol{\\gamma}) \\rvert H_P \\lvert \\psi(\\boldsymbol{\\beta}, \\boldsymbol{\\gamma}) \\rangle $ \n",
        "    4. Find new set of parameters $(\\boldsymbol{\\beta}_{new}, \\boldsymbol{\\gamma}_{new})$ using a classical optimization algorithm\n",
        "    5. Set current parameters $(\\boldsymbol{\\beta}, \\boldsymbol{\\gamma})$ equal to the new parameters \n",
        "      $(\\boldsymbol{\\beta}_{new}, \\boldsymbol{\\gamma}_{new})$\n",
        "\n",
        "The code below implements the steps mentioned above."
      ]
    },
    {
      "cell_type": "code",
      "execution_count": 11,
      "id": "478301be",
      "metadata": {
        "id": "478301be"
      },
      "outputs": [],
      "source": [
        "def maxcut_obj(x, G):\n",
        "    \"\"\"\n",
        "    Given a bitstring as a solution, this function returns\n",
        "    the number of edges shared between the two partitions\n",
        "    of the graph.\n",
        "    \n",
        "    Args:\n",
        "        x: str\n",
        "           solution bitstring\n",
        "           \n",
        "        G: networkx graph\n",
        "    \n",
        "    Returns:\n",
        "        obj: float\n",
        "             Objective\n",
        "    \"\"\"\n",
        "    obj = 0\n",
        "    for i, j in G.edges():\n",
        "        if x[i] == x[j] and x[i] == \"1\":\n",
        "            obj += G.edges[(i,j)][\"weight\"]\n",
        "\n",
        "    for i in G.nodes():\n",
        "        if x[i] == \"1\":\n",
        "            obj += G.nodes[i][\"weight\"]\n",
        "            \n",
        "    return obj\n",
        "            \n",
        "\n",
        "def compute_expectation(counts, G):\n",
        "    \n",
        "    \"\"\"\n",
        "    Computes expectation value based on measurement results\n",
        "    \n",
        "    Args:\n",
        "        counts: dict\n",
        "                key as bitstring, val as count\n",
        "           \n",
        "        G: networkx graph\n",
        "        \n",
        "    Global variable: measure_fract\n",
        "                     only top fraction of counts are averaged\n",
        "    Returns:\n",
        "        avg: float\n",
        "             expectation value\n",
        "    \"\"\"\n",
        "    \n",
        "    avg = 0\n",
        "    sum_count = 0\n",
        "    measured_cuts = []\n",
        "    \n",
        "    if (measure_fract == 1.0):\n",
        "        for bitstring, count in counts.items():\n",
        "            obj = maxcut_obj(bitstring, G)\n",
        "            avg += obj * count\n",
        "            sum_count += count\n",
        "        return avg/sum_count\n",
        "    else:\n",
        "        counts_sorted = dict(sorted(counts.items(), key=lambda item: item[1], reverse=True))\n",
        "        n = int(measure_fract*len(counts_sorted))\n",
        "        counts_fract = dict(list(counts_sorted.items())[0:n])\n",
        "        for bitstring, count in counts_fract.items():\n",
        "            obj = maxcut_obj(bitstring, G)\n",
        "            avg += obj * count\n",
        "            sum_count += count\n",
        "        #print(\"sum_count \" + str(sum_count) )\n",
        "        return avg/sum_count\n",
        "\n",
        "\n",
        "# We will also bring the different circuit components that\n",
        "# build the qaoa circuit under a single function\n",
        "def create_qaoa_circ(G, theta):\n",
        "    \n",
        "    \"\"\"\n",
        "    Creates a parametrized qaoa circuit\n",
        "    \n",
        "    Args:  \n",
        "        G: networkx graph\n",
        "        theta: list\n",
        "               unitary parameters\n",
        "                     \n",
        "    Returns:\n",
        "        qc: qiskit circuit\n",
        "    \"\"\"\n",
        "    \n",
        "    nqubits = len(G.nodes())\n",
        "    p = len(theta)//2  # number of alternating unitaries\n",
        "    qc = QuantumCircuit(nqubits)\n",
        "    \n",
        "    beta = theta[:p]\n",
        "    gamma = theta[p:]\n",
        "    \n",
        "    # initial_state\n",
        "    for i in range(0, nqubits):\n",
        "        qc.h(i)\n",
        "    \n",
        "    for irep in range(0, p):\n",
        "        \n",
        "        # problem unitary\n",
        "        for nod in list(G.nodes()):\n",
        "            qc.rz(2 * gamma[irep]*G.nodes[nod][\"weight\"], nod)\n",
        "            \n",
        "            \n",
        "        for pair in list(G.edges()):\n",
        "            qc.rzz(2 * gamma[irep]*G.edges[pair][\"weight\"], pair[0], pair[1])\n",
        "\n",
        "        # mixer unitary\n",
        "        for i in range(0, nqubits):\n",
        "            qc.rx(2 * beta[irep], i)\n",
        "            \n",
        "    qc.measure_all()\n",
        "        \n",
        "    return qc\n",
        "\n",
        "# Finally we write a function that executes the circuit on the chosen backend\n",
        "def get_expectation(G, backend, hardware, shotsin,seed):\n",
        "    \n",
        "    \"\"\"\n",
        "    Runs parametrized circuit\n",
        "    \n",
        "    Args:\n",
        "        G: networkx graph\n",
        "        p: int,\n",
        "           Number of repetitions of unitaries\n",
        "    \"\"\"\n",
        "    \n",
        "    def execute_circ(theta):\n",
        "        \n",
        "        qc = create_qaoa_circ(G, theta)\n",
        "\n",
        "        # We need this step if we want to run on hardware. \n",
        "        # tqc = qiskit.compiler.transpile(qc,backend)\n",
        "        if (hardware == 1):\n",
        "            tqc = transpile(qc,backend)\n",
        "        else:\n",
        "            tqc = qc\n",
        "\n",
        "        counts = backend.run(tqc, seed_simulator=seed,shots = shotsin).result().get_counts()\n",
        "        \n",
        "        return compute_expectation(counts, G)\n",
        "    \n",
        "    return execute_circ"
      ]
    },
    {
      "cell_type": "markdown",
      "id": "1064ae75",
      "metadata": {
        "id": "1064ae75"
      },
      "source": [
        "### Part I Standard Qiskit Simulator\n",
        "\n",
        "Experiments on simulator\n",
        "\n",
        "Here.\n",
        " \n"
      ]
    },
    {
      "cell_type": "code",
      "execution_count": 12,
      "id": "d5d72012",
      "metadata": {
        "colab": {
          "base_uri": "https://localhost:8080/"
        },
        "id": "d5d72012",
        "outputId": "ed47913b-254b-4b73-e37f-e69bccde64b9"
      },
      "outputs": [
        {
          "output_type": "execute_result",
          "data": {
            "text/plain": [
              "     fun: -3.909090909090909\n",
              "   maxcv: 0.0\n",
              " message: 'Optimization terminated successfully.'\n",
              "    nfev: 153\n",
              "  status: 1\n",
              " success: True\n",
              "       x: array([1.01821187, 0.7602872 , 2.05955982, 1.91290671, 1.00178882,\n",
              "       0.86037854, 1.22767027, 1.09367012, 0.85781646, 1.01432353,\n",
              "       1.00912554, 1.04364428, 1.05249002, 0.95934187, 0.99886092,\n",
              "       0.9351464 ])"
            ]
          },
          "metadata": {},
          "execution_count": 12
        }
      ],
      "source": [
        "from scipy.optimize import minimize\n",
        "from qiskit import *\n",
        "from qiskit import Aer\n",
        "from qiskit.algorithms.optimizers import COBYLA\n",
        "\n",
        "backend = Aer.get_backend('qasm_simulator')\n",
        "\n",
        "# Max number of optimisation iterations\n",
        "#maxiter = 100\n",
        "maxiter = 1000\n",
        "\n",
        "p = 4\n",
        "theta = []\n",
        "for i in range(4*p):\n",
        "    theta.append(1.0)\n",
        "\n",
        "# Number of quantum measurements each time the quantum circuit is called\n",
        "shotsin = 200\n",
        "measure_fract = 0.8\n",
        "\n",
        "# We have random outcomes for the measurements.\n",
        "# So for the simulation it is good practice to seed the random number generator\n",
        "seed = 2\n",
        "\n",
        "expectation = get_expectation(G, backend, 0, shotsin,seed)\n",
        "\n",
        "options = {'maxiter': maxiter}\n",
        "res = minimize(expectation,theta,options=options,method='COBYLA')\n",
        "\n",
        "res"
      ]
    },
    {
      "cell_type": "markdown",
      "id": "a29fb3e4",
      "metadata": {
        "id": "a29fb3e4"
      },
      "source": [
        "### Analyzing the result"
      ]
    },
    {
      "cell_type": "code",
      "execution_count": 13,
      "id": "6d6ff688",
      "metadata": {
        "colab": {
          "base_uri": "https://localhost:8080/",
          "height": 353
        },
        "id": "6d6ff688",
        "outputId": "a5528e58-9c34-4442-dfd0-3109498859f9"
      },
      "outputs": [
        {
          "output_type": "execute_result",
          "data": {
            "text/plain": [
              "<Figure size 504x360 with 1 Axes>"
            ],
            "image/png": "[encoded data removed]"
          },
          "metadata": {},
          "execution_count": 13
        }
      ],
      "source": [
        "from qiskit.visualization import plot_histogram\n",
        "\n",
        "backend = Aer.get_backend('aer_simulator')\n",
        "\n",
        "qc_res = create_qaoa_circ(G, res.x)\n",
        "\n",
        "counts = backend.run(qc_res, seed_simulator=seed,shots = shotsin).result().get_counts()\n",
        "\n",
        "plot_histogram(counts)"
      ]
    },
    {
      "cell_type": "markdown",
      "id": "3e3b3d4c",
      "metadata": {
        "id": "3e3b3d4c"
      },
      "source": [
        "### Questions to think about\n",
        "\n",
        "- There is clearly a distribution of solutions present in the output of the quantum circuit. This is quantum superposition at work. However, this is an artifact of the quantum problem, and a classical solution would be only one of these basis states. How would we sensbily map this to the solution for the classical problem?\n",
        "\n",
        "- How does the energy of this quantum state, \"res.fun\", compare to the energy of our exact solution from above, \"Egs_exact\". How does it compare to the energy of each of the basis states?\n",
        "\n",
        "- What metrics should we come up with to analyse/interpret the quality of our solution?"
      ]
    },
    {
      "cell_type": "markdown",
      "id": "153b680d",
      "metadata": {
        "id": "153b680d"
      },
      "source": [
        "### Cost"
      ]
    },
    {
      "cell_type": "code",
      "execution_count": 14,
      "id": "085db3dd",
      "metadata": {
        "colab": {
          "base_uri": "https://localhost:8080/"
        },
        "id": "085db3dd",
        "outputId": "9b719f05-6b1e-4134-856e-e3d4db83e183"
      },
      "outputs": [
        {
          "output_type": "stream",
          "name": "stdout",
          "text": [
            "The estimated cost is = $152.026\n"
          ]
        }
      ],
      "source": [
        "task_price = 0.25 # price for submitting task to system (in dollars)\n",
        "\n",
        "price_per_CNOT = 0.0001 # price for a single CNOT gate (in dollars)\n",
        "price_per_Zrot = 0.00003 # price for a single Z rotation (in dollars)\n",
        "price_per_Xrot = 0.00008 # price for a single X rotation (in dollars)\n",
        "\n",
        "price_per_shot = p * (len(G.edges()) * (2* price_per_CNOT + price_per_Zrot) + len(G.nodes()) * price_per_Xrot)\n",
        "\n",
        "Optim_evals = res.nfev # Number of optimization steps i.e. the number of times the quantum hardware was called.\n",
        "Meas_shots = shotsin # Number of measurements of quantum hardware i.e. number of times the circuit was applied to the hardware.\n",
        "\n",
        "Cost = (Optim_evals * shotsin * price_per_shot) + task_price\n",
        "\n",
        "print(\"The estimated cost is = $\"+str(Cost))"
      ]
    },
    {
      "cell_type": "markdown",
      "id": "c3b7a9ad",
      "metadata": {
        "id": "c3b7a9ad"
      },
      "source": [
        "### Part II Qiskit Noisy Simulator\n",
        "\n",
        "Experiments on noisy simulator\n",
        "\n",
        "Here."
      ]
    },
    {
      "cell_type": "code",
      "execution_count": 15,
      "id": "37f1aede",
      "metadata": {
        "colab": {
          "base_uri": "https://localhost:8080/"
        },
        "id": "37f1aede",
        "outputId": "4c811da5-af9a-4249-d658-cd331806a5a2"
      },
      "outputs": [
        {
          "output_type": "execute_result",
          "data": {
            "text/plain": [
              "     fun: -3.413793103448276\n",
              "   maxcv: 0.0\n",
              " message: 'Optimization terminated successfully.'\n",
              "    nfev: 148\n",
              "  status: 1\n",
              " success: True\n",
              "       x: array([2.00084189, 0.99172454, 0.99754858, 1.0134109 , 1.01396581,\n",
              "       0.9988117 , 1.99214021, 1.00581438, 1.02438848, 0.98271141,\n",
              "       0.99633608, 1.00015329, 1.00395868, 0.99690891, 1.00036362,\n",
              "       0.99584499])"
            ]
          },
          "metadata": {},
          "execution_count": 15
        }
      ],
      "source": [
        "from scipy.optimize import minimize\n",
        "from qiskit import Aer\n",
        "from qiskit.algorithms.optimizers import COBYLA\n",
        "from qiskit.providers.fake_provider import FakeManilaV2\n",
        "\n",
        "# Get a fake backend from the fake provider\n",
        "backend = FakeManilaV2()\n",
        "\n",
        "# Max number of optimisation iterations\n",
        "#maxiter = 100\n",
        "maxiter = 1000\n",
        "\n",
        "p = 4\n",
        "theta = []\n",
        "for i in range(4*p):\n",
        "    theta.append(1.0)\n",
        "\n",
        "\n",
        "# Number of quantum measurements each time the quantum circuit is called\n",
        "shotsin = 200\n",
        "measure_fract = 0.2\n",
        "\n",
        "# We have random outcomes for the measurements.\n",
        "# So for the simulation it is good practice to seed the random number generator\n",
        "seed = 2\n",
        "\n",
        "expectation = get_expectation(G, backend, 1, shotsin,seed)\n",
        "\n",
        "options = {'maxiter': maxiter}\n",
        "res = minimize(expectation,theta,options=options,method='COBYLA')\n",
        "\n",
        "res"
      ]
    },
    {
      "cell_type": "markdown",
      "id": "d8b6f6ae",
      "metadata": {
        "id": "d8b6f6ae"
      },
      "source": [
        "### Analyzing the result"
      ]
    },
    {
      "cell_type": "code",
      "execution_count": 16,
      "id": "bd40092c",
      "metadata": {
        "colab": {
          "base_uri": "https://localhost:8080/",
          "height": 348
        },
        "id": "bd40092c",
        "outputId": "11c666a2-39b2-451d-b560-70f53ce31d4d"
      },
      "outputs": [
        {
          "output_type": "execute_result",
          "data": {
            "text/plain": [
              "<Figure size 504x360 with 1 Axes>"
            ],
            "image/png": "[encoded data removed]"
          },
          "metadata": {},
          "execution_count": 16
        }
      ],
      "source": [
        "from qiskit.visualization import plot_histogram\n",
        "\n",
        "backend = FakeManilaV2()\n",
        "\n",
        "qc_res = create_qaoa_circ(G, res.x)\n",
        "tqc_res = transpile(qc_res,backend)\n",
        "\n",
        "counts = backend.run(tqc_res, seed_simulator=seed,shots = shotsin).result().get_counts()\n",
        "\n",
        "plot_histogram(counts)"
      ]
    },
    {
      "cell_type": "markdown",
      "id": "6110a155",
      "metadata": {
        "id": "6110a155"
      },
      "source": [
        "### Cost"
      ]
    },
    {
      "cell_type": "code",
      "execution_count": 17,
      "id": "d2b0fd71",
      "metadata": {
        "colab": {
          "base_uri": "https://localhost:8080/"
        },
        "id": "d2b0fd71",
        "outputId": "aa0f1e64-c580-43d6-95b8-caa35d409c63"
      },
      "outputs": [
        {
          "output_type": "stream",
          "name": "stdout",
          "text": [
            "The estimated cost is = $147.066\n"
          ]
        }
      ],
      "source": [
        "task_price = 0.25 # price for submitting task to system (in dollars)\n",
        "\n",
        "price_per_CNOT = 0.0001 # price for a single CNOT gate (in dollars)\n",
        "price_per_Zrot = 0.00003 # price for a single Z rotation (in dollars)\n",
        "price_per_Xrot = 0.00008 # price for a single X rotation (in dollars)\n",
        "\n",
        "price_per_shot = p * (len(G.edges()) * (2* price_per_CNOT + price_per_Zrot) + len(G.nodes()) * price_per_Xrot)\n",
        "\n",
        "Optim_evals = res.nfev # Number of optimization steps i.e. the number of times the quantum hardware was called.\n",
        "Meas_shots = shotsin # Number of measurements of quantum hardware i.e. number of times the circuit was applied to the hardware.\n",
        "\n",
        "Cost = (Optim_evals * shotsin * price_per_shot) + task_price\n",
        "\n",
        "print(\"The estimated cost is = $\"+str(Cost))"
      ]
    },
    {
      "cell_type": "markdown",
      "id": "a5b8fa51",
      "metadata": {
        "id": "a5b8fa51"
      },
      "source": [
        "## References<a id=\"references\"></a>\n",
        "1. Farhi, Edward, Jeffrey Goldstone, and Sam Gutmann. \"A quantum approximate optimization algorithm.\" arXiv preprint [arXiv:1411.4028 (2014)](https://arxiv.org/abs/1411.4028).\n",
        "2. Goemans, Michel X., and David P. Williamson. [Journal of the ACM (JACM) 42.6 (1995): 1115-1145](http://www-math.mit.edu/~goemans/PAPERS/maxcut-jacm.pdf).\n",
        "3. Garey, Michael R.; David S. Johnson (1979). Computers and Intractability: A Guide to the Theory of NP-Completeness. W. H. Freeman. ISBN 0-7167-1045-5\n",
        "4. Kandala, Abhinav, et al. \"Hardware-efficient variational quantum eigensolver for small molecules and quantum magnets.\" [Nature 549.7671 (2017): 242](https://www.nature.com/articles/nature23879).\n",
        "5. Farhi, Edward, et al. \"Quantum algorithms for fixed qubit architectures.\" arXiv preprint [arXiv:1703.06199 (2017)](https://arxiv.org/abs/1703.06199).\n",
        "6. Spall, J. C. (1992), [IEEE Transactions on Automatic Control, vol. 37(3), pp. 332–341](https://ieeexplore.ieee.org/document/119632).\n",
        "7. Michael Streif and Martin Leib \"Training the quantum approximate optimization algorithm without access to a quantum processing unit\" (2020) [Quantum Sci. Technol. 5 034008](https://doi.org/10.1088/2058-9565/ab8c2b)"
      ]
    },
    {
      "cell_type": "code",
      "execution_count": 17,
      "id": "3bc07773",
      "metadata": {
        "id": "3bc07773"
      },
      "outputs": [],
      "source": [
        ""
      ]
    },
    {
      "cell_type": "code",
      "execution_count": 17,
      "id": "ef7e4924",
      "metadata": {
        "id": "ef7e4924"
      },
      "outputs": [],
      "source": [
        ""
      ]
    }
  ],
  "metadata": {
    "kernelspec": {
      "display_name": "Python 3 (ipykernel)",
      "language": "python",
      "name": "python3"
    },
    "language_info": {
      "codemirror_mode": {
        "name": "ipython",
        "version": 3
      },
      "file_extension": ".py",
      "mimetype": "text/x-python",
      "name": "python",
      "nbconvert_exporter": "python",
      "pygments_lexer": "ipython3",
      "version": "3.9.12"
    },
    "vscode": {
      "interpreter": {
        "hash": "82a5ecfa235c1ae66578ca33c01df8bd059aa6dc6013b9541a30e78a452567e5"
      }
    },
    "colab": {
      "name": "maxcut_jumpstartV2.ipynb",
      "provenance": [],
      "include_colab_link": true
    }
  },
  "nbformat": 4,
  "nbformat_minor": 5
}